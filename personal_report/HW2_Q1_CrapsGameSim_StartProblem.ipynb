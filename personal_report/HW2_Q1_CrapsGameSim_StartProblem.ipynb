{
 "cells": [
  {
   "cell_type": "code",
   "execution_count": null,
   "id": "1e853621",
   "metadata": {},
   "outputs": [],
   "source": [
    "import numpy as np\n",
    "import pandas as pd\n",
    "import matplotlib.pyplot as plt\n",
    "import collections\n",
    "import random"
   ]
  },
  {
   "cell_type": "markdown",
   "id": "c6224ec4",
   "metadata": {},
   "source": [
    "### Craps Game Sim\n",
    "\n",
    "Winning the pass bet in the dice game Craps follows the following rules:\n",
    "- Player rolls the two dice (the “come out” roll).\n",
    "- If the first roll (total of both dice) is a 7 or 11, the pass bet wins.\n",
    "- If the first roll is a 2, 3 or 12, the pass bet loses.\n",
    "- If any other total is rolled, the player rolls again repeated until one of the following…\n",
    "    - If the player rolls the same total as the first (come out) roll, the pass bet wins.\n",
    "    - If the player rolls a 7, the pass bet loses.\n",
    "\n",
    "\n"
   ]
  },
  {
   "cell_type": "code",
   "execution_count": null,
   "id": "492014eb",
   "metadata": {},
   "outputs": [],
   "source": [
    "def rollDice(sides, num) :\n",
    "    roll_results = []\n",
    "    \n",
    "    for i in range(num*2):\n",
    "        roll = random.randint(1,sides)\n",
    "        roll_results.append(roll)\n",
    "    total  = sum(roll_results)\n",
    "    \n",
    "    return total\n"
   ]
  },
  {
   "cell_type": "code",
   "execution_count": null,
   "id": "3db4c9ab",
   "metadata": {},
   "outputs": [],
   "source": [
    "sides = 6\n",
    "num = 1\n",
    "rollDice(sides,num)\n"
   ]
  },
  {
   "cell_type": "code",
   "execution_count": null,
   "id": "65225ca9",
   "metadata": {},
   "outputs": [],
   "source": [
    "def crapsGame() :\n",
    "    result = rollDice(6,1)\n",
    "    num_rolls = 1\n",
    "    \n",
    "    if result == 7 or result == 11:\n",
    "        outcome = \"Win\"\n",
    "    elif result == 2 or result == 3 or result == 12:\n",
    "        outcome = \"Lose\"\n",
    "    else:\n",
    "        result = rollDice(6, 1)\n",
    "        num_rolls += 1\n",
    "        \n",
    "        while result != result or result != 7:\n",
    "            result = rollDice(6, 1)\n",
    "            num_rolls += 1\n",
    "            if result == result:\n",
    "                break\n",
    "                outcome = \"Win\"\n",
    "            if result == 7:\n",
    "                outcome = \"Lose\"\n",
    "        \n",
    "    return num_rolls, outcome"
   ]
  },
  {
   "cell_type": "code",
   "execution_count": null,
   "id": "e614162f",
   "metadata": {},
   "outputs": [],
   "source": [
    "n,o = crapsGame()"
   ]
  },
  {
   "cell_type": "code",
   "execution_count": null,
   "id": "66fa7188",
   "metadata": {},
   "outputs": [],
   "source": [
    "def trialsCrapsGame(num_trials) :\n",
    "    trials_num_rolls = []\n",
    "    trials_outcomes = []\n",
    "    \n",
    "    for i in range(num_trials):\n",
    "        n,o = crapsGame()\n",
    "        trials_num_rolls.append(n)\n",
    "        trials_outcomes.append(o)\n",
    "        \n",
    "    return trials_num_rolls, trials_outcomes"
   ]
  },
  {
   "cell_type": "markdown",
   "id": "e56c3f2f",
   "metadata": {},
   "source": [
    "Simulate your Craps models enough times to get a stable estimate of the probability of the pass \n",
    "bet winning. What are the average number of dice rolls in a Craps game? What is the estimated \n",
    "probability of winning?\n",
    "\n",
    "Number of Rolls _______  \n",
    "Prob of Winning _______"
   ]
  },
  {
   "cell_type": "code",
   "execution_count": 668,
   "id": "be02fa76",
   "metadata": {},
   "outputs": [],
   "source": [
    "roll1 = rollDice(6,1)\n",
    "num_rolls = 1\n",
    "\n",
    "if roll1 == 7 or roll1 == 11:\n",
    "    outcome = \"Win\"\n",
    "elif roll1 == 2 or roll1 == 3 or roll1 == 12:\n",
    "    outcome = \"Lose\"\n",
    "else:\n",
    "    roll = rollDice(6,1)\n",
    "    num_rolls += 1\n",
    "    "
   ]
  },
  {
   "cell_type": "code",
   "execution_count": 669,
   "id": "e05ac41b",
   "metadata": {},
   "outputs": [
    {
     "data": {
      "text/plain": [
       "4"
      ]
     },
     "execution_count": 669,
     "metadata": {},
     "output_type": "execute_result"
    }
   ],
   "source": [
    "roll1"
   ]
  },
  {
   "cell_type": "code",
   "execution_count": 670,
   "id": "bb7c85ec",
   "metadata": {},
   "outputs": [
    {
     "data": {
      "text/plain": [
       "9"
      ]
     },
     "execution_count": 670,
     "metadata": {},
     "output_type": "execute_result"
    }
   ],
   "source": [
    "roll"
   ]
  },
  {
   "cell_type": "code",
   "execution_count": 671,
   "id": "ef0d17eb",
   "metadata": {},
   "outputs": [
    {
     "data": {
      "text/plain": [
       "2"
      ]
     },
     "execution_count": 671,
     "metadata": {},
     "output_type": "execute_result"
    }
   ],
   "source": [
    "num_rolls"
   ]
  },
  {
   "cell_type": "code",
   "execution_count": 672,
   "id": "fd50321b",
   "metadata": {},
   "outputs": [
    {
     "data": {
      "text/plain": [
       "'Win'"
      ]
     },
     "execution_count": 672,
     "metadata": {},
     "output_type": "execute_result"
    }
   ],
   "source": [
    "outcome"
   ]
  },
  {
   "cell_type": "code",
   "execution_count": 679,
   "id": "c1105443",
   "metadata": {},
   "outputs": [],
   "source": [
    "roll = rollDice(6,1)\n",
    "num_rolls += 1"
   ]
  },
  {
   "cell_type": "code",
   "execution_count": 681,
   "id": "2478773d",
   "metadata": {},
   "outputs": [
    {
     "data": {
      "text/plain": [
       "5"
      ]
     },
     "execution_count": 681,
     "metadata": {},
     "output_type": "execute_result"
    }
   ],
   "source": [
    "roll"
   ]
  },
  {
   "cell_type": "code",
   "execution_count": 682,
   "id": "063f6da9",
   "metadata": {},
   "outputs": [
    {
     "data": {
      "text/plain": [
       "6"
      ]
     },
     "execution_count": 682,
     "metadata": {},
     "output_type": "execute_result"
    }
   ],
   "source": [
    "num_rolls"
   ]
  }
 ],
 "metadata": {
  "kernelspec": {
   "display_name": "Python 3 (ipykernel)",
   "language": "python",
   "name": "python3"
  },
  "language_info": {
   "codemirror_mode": {
    "name": "ipython",
    "version": 3
   },
   "file_extension": ".py",
   "mimetype": "text/x-python",
   "name": "python",
   "nbconvert_exporter": "python",
   "pygments_lexer": "ipython3",
   "version": "3.9.13"
  }
 },
 "nbformat": 4,
 "nbformat_minor": 5
}
