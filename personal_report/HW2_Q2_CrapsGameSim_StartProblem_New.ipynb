{
 "cells": [
  {
   "cell_type": "code",
   "execution_count": 289,
   "id": "7dac3ccf",
   "metadata": {},
   "outputs": [],
   "source": [
    "import numpy as np\n",
    "import pandas as pd\n",
    "import matplotlib.pyplot as plt\n",
    "import collections\n",
    "import random"
   ]
  },
  {
   "cell_type": "markdown",
   "id": "7b756057",
   "metadata": {},
   "source": [
    "### Craps Game Sim\n",
    "\n",
    "Winning the pass bet in the dice game Craps follows the following rules:\n",
    "- Player rolls the two dice (the “come out” roll).\n",
    "- If the first roll (total of both dice) is a 7 or 11, the pass bet wins.\n",
    "- If the first roll is a 2, 3 or 12, the pass bet loses.\n",
    "- If any other total is rolled, the player rolls again repeated until one of the following…\n",
    "    - If the player rolls the same total as the first (come out) roll, the pass bet wins.\n",
    "    - If the player rolls a 7, the pass bet loses.\n"
   ]
  },
  {
   "cell_type": "code",
   "execution_count": 290,
   "id": "c93e35f6",
   "metadata": {},
   "outputs": [],
   "source": [
    "def rollDice(sides, num) :\n",
    "    roll_results = []\n",
    "    \n",
    "    for i in range(num*2):\n",
    "        roll = random.randint(1,sides)\n",
    "        roll_results.append(roll)\n",
    "    total  = sum(roll_results)\n",
    "    \n",
    "    return total"
   ]
  },
  {
   "cell_type": "code",
   "execution_count": 291,
   "id": "20d686a8",
   "metadata": {},
   "outputs": [],
   "source": [
    "sides = 6\n",
    "num = 1"
   ]
  },
  {
   "cell_type": "code",
   "execution_count": 292,
   "id": "6ae3da31",
   "metadata": {},
   "outputs": [
    {
     "data": {
      "text/plain": [
       "7"
      ]
     },
     "execution_count": 292,
     "metadata": {},
     "output_type": "execute_result"
    }
   ],
   "source": [
    "rollDice(6,1)"
   ]
  },
  {
   "cell_type": "code",
   "execution_count": 293,
   "id": "02426c6f",
   "metadata": {},
   "outputs": [
    {
     "data": {
      "text/plain": [
       "[12, 8, 8, 11, 9, 9, 4, 7, 7, 4, 7, 5, 7, 9, 2, 8, 7, 9, 7, 8]"
      ]
     },
     "execution_count": 293,
     "metadata": {},
     "output_type": "execute_result"
    }
   ],
   "source": [
    "num_rolls = 20\n",
    "results = []\n",
    "\n",
    "for i in range(0,num_rolls):\n",
    "    results.append(rollDice(6,1))\n",
    "\n",
    "results"
   ]
  },
  {
   "cell_type": "code",
   "execution_count": 294,
   "id": "279b6694",
   "metadata": {},
   "outputs": [
    {
     "data": {
      "image/png": "[encoded data removed]",
      "text/plain": [
       "<Figure size 640x480 with 1 Axes>"
      ]
     },
     "metadata": {},
     "output_type": "display_data"
    }
   ],
   "source": [
    "results\n",
    "\n",
    "plt.hist(results)\n",
    "plt.show()"
   ]
  },
  {
   "cell_type": "code",
   "execution_count": 295,
   "id": "993c6204",
   "metadata": {},
   "outputs": [],
   "source": [
    "def crapsGame() :\n",
    "    roll1 = rollDice(6,1)\n",
    "    num_rolls = 1\n",
    "    \n",
    "    if roll1 == 7 or roll1 == 11:\n",
    "        outcome = \"Win\"\n",
    "    elif roll1 == 2 or roll1 == 3 or roll1 == 12:\n",
    "        outcome = \"Lose\"\n",
    "    else:\n",
    "        roll = rollDice(6,1)\n",
    "        num_rolls += 1\n",
    "        while roll != roll1 and roll != 7:\n",
    "            roll = rollDice(6,1)\n",
    "            num_rolls += 1\n",
    "\n",
    "        if roll == roll1:\n",
    "            outcome = \"Win\"\n",
    "        elif roll == 7:\n",
    "            outcome = \"Lose\"\n",
    "                \n",
    "    return num_rolls, outcome   \n",
    "        "
   ]
  },
  {
   "cell_type": "code",
   "execution_count": 296,
   "id": "0acca43a",
   "metadata": {},
   "outputs": [
    {
     "name": "stdout",
     "output_type": "stream",
     "text": [
      "number of rolls =  1 outcome =  Win\n"
     ]
    }
   ],
   "source": [
    "n,o = crapsGame()\n",
    "print(\"number of rolls = \", n, \"outcome = \", o)"
   ]
  },
  {
   "cell_type": "code",
   "execution_count": 297,
   "id": "901ca767",
   "metadata": {},
   "outputs": [],
   "source": [
    "def trialsCrapsGame(num_trials) :\n",
    "    trials_num_rolls = []\n",
    "    trials_outcomes = []\n",
    "    \n",
    "    for i in range(num_trials):\n",
    "        n,o = crapsGame()\n",
    "        trials_num_rolls.append(n)\n",
    "        trials_outcomes.append(o)\n",
    "        \n",
    "    return trials_num_rolls, trials_outcomes"
   ]
  },
  {
   "cell_type": "code",
   "execution_count": 298,
   "id": "10d61f93",
   "metadata": {},
   "outputs": [
    {
     "data": {
      "text/plain": [
       "3.4162"
      ]
     },
     "execution_count": 298,
     "metadata": {},
     "output_type": "execute_result"
    }
   ],
   "source": [
    "sim_rolls, sim_outcome = trialsCrapsGame(5000)\n",
    "avg_rolls = np.average(sim_rolls)\n",
    "avg_rolls"
   ]
  },
  {
   "cell_type": "code",
   "execution_count": 299,
   "id": "201383e5",
   "metadata": {},
   "outputs": [
    {
     "data": {
      "text/plain": [
       "0.4852"
      ]
     },
     "execution_count": 299,
     "metadata": {},
     "output_type": "execute_result"
    }
   ],
   "source": [
    "prob_of_winning = sim_outcome.count(\"Win\")/len(sim_outcome)\n",
    "prob_of_winning"
   ]
  },
  {
   "cell_type": "markdown",
   "id": "9402800a",
   "metadata": {},
   "source": [
    "Simulate your Craps models enough times to get a stable estimate of the probability of the pass \n",
    "bet winning. What are the average number of dice rolls in a Craps game? What is the estimated \n",
    "probability of winning?\n",
    "\n",
    "Number of Rolls __4__  \n",
    "Prob of Winning __48.52%__"
   ]
  }
 ],
 "metadata": {
  "kernelspec": {
   "display_name": "Python 3 (ipykernel)",
   "language": "python",
   "name": "python3"
  },
  "language_info": {
   "codemirror_mode": {
    "name": "ipython",
    "version": 3
   },
   "file_extension": ".py",
   "mimetype": "text/x-python",
   "name": "python",
   "nbconvert_exporter": "python",
   "pygments_lexer": "ipython3",
   "version": "3.9.13"
  }
 },
 "nbformat": 4,
 "nbformat_minor": 5
}
