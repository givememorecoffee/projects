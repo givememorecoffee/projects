{
  "nbformat": 4,
  "nbformat_minor": 0,
  "metadata": {
    "colab": {
      "provenance": []
    },
    "kernelspec": {
      "name": "python3",
      "display_name": "Python 3"
    },
    "language_info": {
      "name": "python"
    }
  },
  "cells": [
    {
      "cell_type": "code",
      "execution_count": 1,
      "metadata": {
        "id": "qEXxfkZwWeDW"
      },
      "outputs": [],
      "source": [
        "from gensim.models.word2vec import Word2Vec"
      ]
    },
    {
      "cell_type": "code",
      "source": [
        "import re\n",
        "from sklearn import feature_extraction \n",
        "stop_words = feature_extraction.text.ENGLISH_STOP_WORDS\n",
        "from nltk.stem import PorterStemmer\n",
        "from nltk.stem import WordNetLemmatizer\n",
        "\n",
        "def preprocess(text):\n",
        "  text = re.sub(r'[^\\w\\s]', '', str(text)) #remove punctuations\n",
        "  text = re.sub(r'\\d+', '', str(text)) #remove numbers\n",
        "  text = text.lower() #lowercase\n",
        "  text = \" \".join(text.split()) #stripWhitespace\n",
        "  text = text.split()\n",
        "  text = [x for x in text if x not in stop_words] #remove stopwords\n",
        "  text = [x for x in text if x not in [\"elden\", \"ring\"]] #remove task specific stopwords\n",
        "  text = \" \".join(text)\n",
        "  # stemmer_ps = PorterStemmer()  \n",
        "  # text = [stemmer_ps.stem(word) for word in text.split()] #stemming\n",
        "  # text = \" \".join(text)\n",
        "  # lemmatizer = WordNetLemmatizer()\n",
        "  # text = [lemmatizer.lemmatize(word) for word in text.split()]  #lemmatization\n",
        "  # text = \" \".join(text)\n",
        "  return(text)"
      ],
      "metadata": {
        "id": "-rOXzvZNWtF7"
      },
      "execution_count": 15,
      "outputs": []
    },
    {
      "cell_type": "code",
      "source": [
        "import pandas as pd\n",
        "data = pd.read_csv('elden_ring_steam_reviews.csv')"
      ],
      "metadata": {
        "id": "_Y1rWAVoWwP9"
      },
      "execution_count": 3,
      "outputs": []
    },
    {
      "cell_type": "code",
      "source": [
        "data.head(5)"
      ],
      "metadata": {
        "colab": {
          "base_uri": "https://localhost:8080/",
          "height": 443
        },
        "id": "BuaYYr_fW-kR",
        "outputId": "700f2ac2-6cfd-4243-a903-85dba323a0a8"
      },
      "execution_count": 4,
      "outputs": [
        {
          "output_type": "execute_result",
          "data": {
            "text/plain": [
              "          id language                                             review  \\\n",
              "0  134238864  english            being killed over and over again is fun   \n",
              "1  134238208  english  I write this review as I have 100% completed E...   \n",
              "2  134238033  english                                                Fun   \n",
              "3  134237508  english                                       pretty cool.   \n",
              "4  134236511  english                                AMAZINGGGGGGGGGGGGG   \n",
              "\n",
              "               created  voted_up  votes_up  comment_count  steam_purchase  \\\n",
              "0  2023-03-07 14:19:11      True         0              0           False   \n",
              "1  2023-03-07 14:03:24      True         0              0            True   \n",
              "2  2023-03-07 13:59:13      True         0              0            True   \n",
              "3  2023-03-07 13:46:37      True         0              0            True   \n",
              "4  2023-03-07 13:20:04      True         0              0            True   \n",
              "\n",
              "   recieved_for_free  written_during_early_access  author_num_games_owned  \\\n",
              "0              False                        False                      47   \n",
              "1              False                        False                     110   \n",
              "2              False                        False                      11   \n",
              "3              False                        False                      94   \n",
              "4              False                        False                       4   \n",
              "\n",
              "   author_num_reviews  author_playtime_forever  \\\n",
              "0                   2                      355   \n",
              "1                   2                    24238   \n",
              "2                   1                      912   \n",
              "3                   8                     8497   \n",
              "4                   1                      985   \n",
              "\n",
              "   author_playtime_last_two_weeks  author_playtime_at_review  \\\n",
              "0                             355                        346   \n",
              "1                            5823                      24238   \n",
              "2                             912                        881   \n",
              "3                            2914                       8497   \n",
              "4                             163                        923   \n",
              "\n",
              "    author_last_played  \n",
              "0  2023-03-07 14:29:21  \n",
              "1  2023-03-07 02:08:22  \n",
              "2  2023-03-07 14:30:07  \n",
              "3  2023-03-07 13:44:52  \n",
              "4  2023-03-07 14:26:41  "
            ],
            "text/html": [
              "\n",
              "  <div id=\"df-34cfca5d-16e3-4e5b-861e-85ffab3ba0dd\">\n",
              "    <div class=\"colab-df-container\">\n",
              "      <div>\n",
              "<style scoped>\n",
              "    .dataframe tbody tr th:only-of-type {\n",
              "        vertical-align: middle;\n",
              "    }\n",
              "\n",
              "    .dataframe tbody tr th {\n",
              "        vertical-align: top;\n",
              "    }\n",
              "\n",
              "    .dataframe thead th {\n",
              "        text-align: right;\n",
              "    }\n",
              "</style>\n",
              "<table border=\"1\" class=\"dataframe\">\n",
              "  <thead>\n",
              "    <tr style=\"text-align: right;\">\n",
              "      <th></th>\n",
              "      <th>id</th>\n",
              "      <th>language</th>\n",
              "      <th>review</th>\n",
              "      <th>created</th>\n",
              "      <th>voted_up</th>\n",
              "      <th>votes_up</th>\n",
              "      <th>comment_count</th>\n",
              "      <th>steam_purchase</th>\n",
              "      <th>recieved_for_free</th>\n",
              "      <th>written_during_early_access</th>\n",
              "      <th>author_num_games_owned</th>\n",
              "      <th>author_num_reviews</th>\n",
              "      <th>author_playtime_forever</th>\n",
              "      <th>author_playtime_last_two_weeks</th>\n",
              "      <th>author_playtime_at_review</th>\n",
              "      <th>author_last_played</th>\n",
              "    </tr>\n",
              "  </thead>\n",
              "  <tbody>\n",
              "    <tr>\n",
              "      <th>0</th>\n",
              "      <td>134238864</td>\n",
              "      <td>english</td>\n",
              "      <td>being killed over and over again is fun</td>\n",
              "      <td>2023-03-07 14:19:11</td>\n",
              "      <td>True</td>\n",
              "      <td>0</td>\n",
              "      <td>0</td>\n",
              "      <td>False</td>\n",
              "      <td>False</td>\n",
              "      <td>False</td>\n",
              "      <td>47</td>\n",
              "      <td>2</td>\n",
              "      <td>355</td>\n",
              "      <td>355</td>\n",
              "      <td>346</td>\n",
              "      <td>2023-03-07 14:29:21</td>\n",
              "    </tr>\n",
              "    <tr>\n",
              "      <th>1</th>\n",
              "      <td>134238208</td>\n",
              "      <td>english</td>\n",
              "      <td>I write this review as I have 100% completed E...</td>\n",
              "      <td>2023-03-07 14:03:24</td>\n",
              "      <td>True</td>\n",
              "      <td>0</td>\n",
              "      <td>0</td>\n",
              "      <td>True</td>\n",
              "      <td>False</td>\n",
              "      <td>False</td>\n",
              "      <td>110</td>\n",
              "      <td>2</td>\n",
              "      <td>24238</td>\n",
              "      <td>5823</td>\n",
              "      <td>24238</td>\n",
              "      <td>2023-03-07 02:08:22</td>\n",
              "    </tr>\n",
              "    <tr>\n",
              "      <th>2</th>\n",
              "      <td>134238033</td>\n",
              "      <td>english</td>\n",
              "      <td>Fun</td>\n",
              "      <td>2023-03-07 13:59:13</td>\n",
              "      <td>True</td>\n",
              "      <td>0</td>\n",
              "      <td>0</td>\n",
              "      <td>True</td>\n",
              "      <td>False</td>\n",
              "      <td>False</td>\n",
              "      <td>11</td>\n",
              "      <td>1</td>\n",
              "      <td>912</td>\n",
              "      <td>912</td>\n",
              "      <td>881</td>\n",
              "      <td>2023-03-07 14:30:07</td>\n",
              "    </tr>\n",
              "    <tr>\n",
              "      <th>3</th>\n",
              "      <td>134237508</td>\n",
              "      <td>english</td>\n",
              "      <td>pretty cool.</td>\n",
              "      <td>2023-03-07 13:46:37</td>\n",
              "      <td>True</td>\n",
              "      <td>0</td>\n",
              "      <td>0</td>\n",
              "      <td>True</td>\n",
              "      <td>False</td>\n",
              "      <td>False</td>\n",
              "      <td>94</td>\n",
              "      <td>8</td>\n",
              "      <td>8497</td>\n",
              "      <td>2914</td>\n",
              "      <td>8497</td>\n",
              "      <td>2023-03-07 13:44:52</td>\n",
              "    </tr>\n",
              "    <tr>\n",
              "      <th>4</th>\n",
              "      <td>134236511</td>\n",
              "      <td>english</td>\n",
              "      <td>AMAZINGGGGGGGGGGGGG</td>\n",
              "      <td>2023-03-07 13:20:04</td>\n",
              "      <td>True</td>\n",
              "      <td>0</td>\n",
              "      <td>0</td>\n",
              "      <td>True</td>\n",
              "      <td>False</td>\n",
              "      <td>False</td>\n",
              "      <td>4</td>\n",
              "      <td>1</td>\n",
              "      <td>985</td>\n",
              "      <td>163</td>\n",
              "      <td>923</td>\n",
              "      <td>2023-03-07 14:26:41</td>\n",
              "    </tr>\n",
              "  </tbody>\n",
              "</table>\n",
              "</div>\n",
              "      <button class=\"colab-df-convert\" onclick=\"convertToInteractive('df-34cfca5d-16e3-4e5b-861e-85ffab3ba0dd')\"\n",
              "              title=\"Convert this dataframe to an interactive table.\"\n",
              "              style=\"display:none;\">\n",
              "        \n",
              "  <svg xmlns=\"http://www.w3.org/2000/svg\" height=\"24px\"viewBox=\"0 0 24 24\"\n",
              "       width=\"24px\">\n",
              "    <path d=\"M0 0h24v24H0V0z\" fill=\"none\"/>\n",
              "    <path d=\"M18.56 5.44l.94 2.06.94-2.06 2.06-.94-2.06-.94-.94-2.06-.94 2.06-2.06.94zm-11 1L8.5 8.5l.94-2.06 2.06-.94-2.06-.94L8.5 2.5l-.94 2.06-2.06.94zm10 10l.94 2.06.94-2.06 2.06-.94-2.06-.94-.94-2.06-.94 2.06-2.06.94z\"/><path d=\"M17.41 7.96l-1.37-1.37c-.4-.4-.92-.59-1.43-.59-.52 0-1.04.2-1.43.59L10.3 9.45l-7.72 7.72c-.78.78-.78 2.05 0 2.83L4 21.41c.39.39.9.59 1.41.59.51 0 1.02-.2 1.41-.59l7.78-7.78 2.81-2.81c.8-.78.8-2.07 0-2.86zM5.41 20L4 18.59l7.72-7.72 1.47 1.35L5.41 20z\"/>\n",
              "  </svg>\n",
              "      </button>\n",
              "      \n",
              "  <style>\n",
              "    .colab-df-container {\n",
              "      display:flex;\n",
              "      flex-wrap:wrap;\n",
              "      gap: 12px;\n",
              "    }\n",
              "\n",
              "    .colab-df-convert {\n",
              "      background-color: #E8F0FE;\n",
              "      border: none;\n",
              "      border-radius: 50%;\n",
              "      cursor: pointer;\n",
              "      display: none;\n",
              "      fill: #1967D2;\n",
              "      height: 32px;\n",
              "      padding: 0 0 0 0;\n",
              "      width: 32px;\n",
              "    }\n",
              "\n",
              "    .colab-df-convert:hover {\n",
              "      background-color: #E2EBFA;\n",
              "      box-shadow: 0px 1px 2px rgba(60, 64, 67, 0.3), 0px 1px 3px 1px rgba(60, 64, 67, 0.15);\n",
              "      fill: #174EA6;\n",
              "    }\n",
              "\n",
              "    [theme=dark] .colab-df-convert {\n",
              "      background-color: #3B4455;\n",
              "      fill: #D2E3FC;\n",
              "    }\n",
              "\n",
              "    [theme=dark] .colab-df-convert:hover {\n",
              "      background-color: #434B5C;\n",
              "      box-shadow: 0px 1px 3px 1px rgba(0, 0, 0, 0.15);\n",
              "      filter: drop-shadow(0px 1px 2px rgba(0, 0, 0, 0.3));\n",
              "      fill: #FFFFFF;\n",
              "    }\n",
              "  </style>\n",
              "\n",
              "      <script>\n",
              "        const buttonEl =\n",
              "          document.querySelector('#df-34cfca5d-16e3-4e5b-861e-85ffab3ba0dd button.colab-df-convert');\n",
              "        buttonEl.style.display =\n",
              "          google.colab.kernel.accessAllowed ? 'block' : 'none';\n",
              "\n",
              "        async function convertToInteractive(key) {\n",
              "          const element = document.querySelector('#df-34cfca5d-16e3-4e5b-861e-85ffab3ba0dd');\n",
              "          const dataTable =\n",
              "            await google.colab.kernel.invokeFunction('convertToInteractive',\n",
              "                                                     [key], {});\n",
              "          if (!dataTable) return;\n",
              "\n",
              "          const docLinkHtml = 'Like what you see? Visit the ' +\n",
              "            '<a target=\"_blank\" href=https://colab.research.google.com/notebooks/data_table.ipynb>data table notebook</a>'\n",
              "            + ' to learn more about interactive tables.';\n",
              "          element.innerHTML = '';\n",
              "          dataTable['output_type'] = 'display_data';\n",
              "          await google.colab.output.renderOutput(dataTable, element);\n",
              "          const docLink = document.createElement('div');\n",
              "          docLink.innerHTML = docLinkHtml;\n",
              "          element.appendChild(docLink);\n",
              "        }\n",
              "      </script>\n",
              "    </div>\n",
              "  </div>\n",
              "  "
            ]
          },
          "metadata": {},
          "execution_count": 4
        }
      ]
    },
    {
      "cell_type": "code",
      "source": [
        "data = data[data.language == \"english\"]"
      ],
      "metadata": {
        "id": "56yK4TyHfgzL"
      },
      "execution_count": 31,
      "outputs": []
    },
    {
      "cell_type": "code",
      "source": [
        "data['review_processed']=data['review'].apply(lambda x:preprocess(x))\n",
        "data['review_processed']=data['review_processed'].apply(lambda x:x.split())"
      ],
      "metadata": {
        "id": "hkO7y4L8XFnb"
      },
      "execution_count": 32,
      "outputs": []
    },
    {
      "cell_type": "code",
      "source": [
        "data"
      ],
      "metadata": {
        "colab": {
          "base_uri": "https://localhost:8080/",
          "height": 834
        },
        "id": "l_1YL11yY0P-",
        "outputId": "fd39b20d-6da9-41ab-eac3-7bb126685576"
      },
      "execution_count": 33,
      "outputs": [
        {
          "output_type": "execute_result",
          "data": {
            "text/plain": [
              "             id language                                             review  \\\n",
              "0     134238864  english            being killed over and over again is fun   \n",
              "1     134238208  english  I write this review as I have 100% completed E...   \n",
              "2     134238033  english                                                Fun   \n",
              "3     134237508  english                                       pretty cool.   \n",
              "4     134236511  english                                AMAZINGGGGGGGGGGGGG   \n",
              "...         ...      ...                                                ...   \n",
              "9789  131803069  english                       Best platformer of the year.   \n",
              "9790  131802918  english  truly fun...very recommended, worth the money ...   \n",
              "9791  131802717  english          mimic is the friend we made along the way   \n",
              "9792  131802309  english  The lands of Elden Ring are vast and wild, fil...   \n",
              "9793  131801971  english                                  Cant Segz Godrick   \n",
              "\n",
              "                  created  voted_up  votes_up  comment_count  steam_purchase  \\\n",
              "0     2023-03-07 14:19:11      True         0              0           False   \n",
              "1     2023-03-07 14:03:24      True         0              0            True   \n",
              "2     2023-03-07 13:59:13      True         0              0            True   \n",
              "3     2023-03-07 13:46:37      True         0              0            True   \n",
              "4     2023-03-07 13:20:04      True         0              0            True   \n",
              "...                   ...       ...       ...            ...             ...   \n",
              "9789  2023-01-29 14:50:25      True         0              0            True   \n",
              "9790  2023-01-29 14:47:55      True         0              0            True   \n",
              "9791  2023-01-29 14:44:41      True         0              0            True   \n",
              "9792  2023-01-29 14:38:38      True         1              0            True   \n",
              "9793  2023-01-29 14:32:52     False         0              0           False   \n",
              "\n",
              "      recieved_for_free  written_during_early_access  author_num_games_owned  \\\n",
              "0                 False                        False                      47   \n",
              "1                 False                        False                     110   \n",
              "2                 False                        False                      11   \n",
              "3                 False                        False                      94   \n",
              "4                 False                        False                       4   \n",
              "...                 ...                          ...                     ...   \n",
              "9789              False                        False                     112   \n",
              "9790              False                        False                      17   \n",
              "9791              False                        False                      34   \n",
              "9792              False                        False                      70   \n",
              "9793              False                        False                     194   \n",
              "\n",
              "      author_num_reviews  author_playtime_forever  \\\n",
              "0                      2                      355   \n",
              "1                      2                    24238   \n",
              "2                      1                      912   \n",
              "3                      8                     8497   \n",
              "4                      1                      985   \n",
              "...                  ...                      ...   \n",
              "9789                   8                    12095   \n",
              "9790                   4                     9467   \n",
              "9791                   3                     8098   \n",
              "9792                   8                     9472   \n",
              "9793                  71                     6935   \n",
              "\n",
              "      author_playtime_last_two_weeks  author_playtime_at_review  \\\n",
              "0                                355                        346   \n",
              "1                               5823                      24238   \n",
              "2                                912                        881   \n",
              "3                               2914                       8497   \n",
              "4                                163                        923   \n",
              "...                              ...                        ...   \n",
              "9789                            1751                       7565   \n",
              "9790                              39                       8394   \n",
              "9791                               6                       5655   \n",
              "9792                             201                       9191   \n",
              "9793                               0                       6582   \n",
              "\n",
              "       author_last_played                                   review_processed  \n",
              "0     2023-03-07 14:29:21                                      [killed, fun]  \n",
              "1     2023-03-07 02:08:22  [write, review, completed, despite, new, thing...  \n",
              "2     2023-03-07 14:30:07                                              [fun]  \n",
              "3     2023-03-07 13:44:52                                     [pretty, cool]  \n",
              "4     2023-03-07 14:26:41                              [amazinggggggggggggg]  \n",
              "...                   ...                                                ...  \n",
              "9789  2023-03-06 13:54:32                           [best, platformer, year]  \n",
              "9790  2023-02-26 17:51:52  [truly, funvery, recommended, worth, money, time]  \n",
              "9791  2023-02-23 10:17:41                               [mimic, friend, way]  \n",
              "9792  2023-03-05 13:39:17  [lands, vast, wild, filled, dangers, lurking, ...  \n",
              "9793  2023-02-03 19:17:59                                    [segz, godrick]  \n",
              "\n",
              "[9794 rows x 17 columns]"
            ],
            "text/html": [
              "\n",
              "  <div id=\"df-677f7579-760a-4b30-beda-bde7b683c1e6\">\n",
              "    <div class=\"colab-df-container\">\n",
              "      <div>\n",
              "<style scoped>\n",
              "    .dataframe tbody tr th:only-of-type {\n",
              "        vertical-align: middle;\n",
              "    }\n",
              "\n",
              "    .dataframe tbody tr th {\n",
              "        vertical-align: top;\n",
              "    }\n",
              "\n",
              "    .dataframe thead th {\n",
              "        text-align: right;\n",
              "    }\n",
              "</style>\n",
              "<table border=\"1\" class=\"dataframe\">\n",
              "  <thead>\n",
              "    <tr style=\"text-align: right;\">\n",
              "      <th></th>\n",
              "      <th>id</th>\n",
              "      <th>language</th>\n",
              "      <th>review</th>\n",
              "      <th>created</th>\n",
              "      <th>voted_up</th>\n",
              "      <th>votes_up</th>\n",
              "      <th>comment_count</th>\n",
              "      <th>steam_purchase</th>\n",
              "      <th>recieved_for_free</th>\n",
              "      <th>written_during_early_access</th>\n",
              "      <th>author_num_games_owned</th>\n",
              "      <th>author_num_reviews</th>\n",
              "      <th>author_playtime_forever</th>\n",
              "      <th>author_playtime_last_two_weeks</th>\n",
              "      <th>author_playtime_at_review</th>\n",
              "      <th>author_last_played</th>\n",
              "      <th>review_processed</th>\n",
              "    </tr>\n",
              "  </thead>\n",
              "  <tbody>\n",
              "    <tr>\n",
              "      <th>0</th>\n",
              "      <td>134238864</td>\n",
              "      <td>english</td>\n",
              "      <td>being killed over and over again is fun</td>\n",
              "      <td>2023-03-07 14:19:11</td>\n",
              "      <td>True</td>\n",
              "      <td>0</td>\n",
              "      <td>0</td>\n",
              "      <td>False</td>\n",
              "      <td>False</td>\n",
              "      <td>False</td>\n",
              "      <td>47</td>\n",
              "      <td>2</td>\n",
              "      <td>355</td>\n",
              "      <td>355</td>\n",
              "      <td>346</td>\n",
              "      <td>2023-03-07 14:29:21</td>\n",
              "      <td>[killed, fun]</td>\n",
              "    </tr>\n",
              "    <tr>\n",
              "      <th>1</th>\n",
              "      <td>134238208</td>\n",
              "      <td>english</td>\n",
              "      <td>I write this review as I have 100% completed E...</td>\n",
              "      <td>2023-03-07 14:03:24</td>\n",
              "      <td>True</td>\n",
              "      <td>0</td>\n",
              "      <td>0</td>\n",
              "      <td>True</td>\n",
              "      <td>False</td>\n",
              "      <td>False</td>\n",
              "      <td>110</td>\n",
              "      <td>2</td>\n",
              "      <td>24238</td>\n",
              "      <td>5823</td>\n",
              "      <td>24238</td>\n",
              "      <td>2023-03-07 02:08:22</td>\n",
              "      <td>[write, review, completed, despite, new, thing...</td>\n",
              "    </tr>\n",
              "    <tr>\n",
              "      <th>2</th>\n",
              "      <td>134238033</td>\n",
              "      <td>english</td>\n",
              "      <td>Fun</td>\n",
              "      <td>2023-03-07 13:59:13</td>\n",
              "      <td>True</td>\n",
              "      <td>0</td>\n",
              "      <td>0</td>\n",
              "      <td>True</td>\n",
              "      <td>False</td>\n",
              "      <td>False</td>\n",
              "      <td>11</td>\n",
              "      <td>1</td>\n",
              "      <td>912</td>\n",
              "      <td>912</td>\n",
              "      <td>881</td>\n",
              "      <td>2023-03-07 14:30:07</td>\n",
              "      <td>[fun]</td>\n",
              "    </tr>\n",
              "    <tr>\n",
              "      <th>3</th>\n",
              "      <td>134237508</td>\n",
              "      <td>english</td>\n",
              "      <td>pretty cool.</td>\n",
              "      <td>2023-03-07 13:46:37</td>\n",
              "      <td>True</td>\n",
              "      <td>0</td>\n",
              "      <td>0</td>\n",
              "      <td>True</td>\n",
              "      <td>False</td>\n",
              "      <td>False</td>\n",
              "      <td>94</td>\n",
              "      <td>8</td>\n",
              "      <td>8497</td>\n",
              "      <td>2914</td>\n",
              "      <td>8497</td>\n",
              "      <td>2023-03-07 13:44:52</td>\n",
              "      <td>[pretty, cool]</td>\n",
              "    </tr>\n",
              "    <tr>\n",
              "      <th>4</th>\n",
              "      <td>134236511</td>\n",
              "      <td>english</td>\n",
              "      <td>AMAZINGGGGGGGGGGGGG</td>\n",
              "      <td>2023-03-07 13:20:04</td>\n",
              "      <td>True</td>\n",
              "      <td>0</td>\n",
              "      <td>0</td>\n",
              "      <td>True</td>\n",
              "      <td>False</td>\n",
              "      <td>False</td>\n",
              "      <td>4</td>\n",
              "      <td>1</td>\n",
              "      <td>985</td>\n",
              "      <td>163</td>\n",
              "      <td>923</td>\n",
              "      <td>2023-03-07 14:26:41</td>\n",
              "      <td>[amazinggggggggggggg]</td>\n",
              "    </tr>\n",
              "    <tr>\n",
              "      <th>...</th>\n",
              "      <td>...</td>\n",
              "      <td>...</td>\n",
              "      <td>...</td>\n",
              "      <td>...</td>\n",
              "      <td>...</td>\n",
              "      <td>...</td>\n",
              "      <td>...</td>\n",
              "      <td>...</td>\n",
              "      <td>...</td>\n",
              "      <td>...</td>\n",
              "      <td>...</td>\n",
              "      <td>...</td>\n",
              "      <td>...</td>\n",
              "      <td>...</td>\n",
              "      <td>...</td>\n",
              "      <td>...</td>\n",
              "      <td>...</td>\n",
              "    </tr>\n",
              "    <tr>\n",
              "      <th>9789</th>\n",
              "      <td>131803069</td>\n",
              "      <td>english</td>\n",
              "      <td>Best platformer of the year.</td>\n",
              "      <td>2023-01-29 14:50:25</td>\n",
              "      <td>True</td>\n",
              "      <td>0</td>\n",
              "      <td>0</td>\n",
              "      <td>True</td>\n",
              "      <td>False</td>\n",
              "      <td>False</td>\n",
              "      <td>112</td>\n",
              "      <td>8</td>\n",
              "      <td>12095</td>\n",
              "      <td>1751</td>\n",
              "      <td>7565</td>\n",
              "      <td>2023-03-06 13:54:32</td>\n",
              "      <td>[best, platformer, year]</td>\n",
              "    </tr>\n",
              "    <tr>\n",
              "      <th>9790</th>\n",
              "      <td>131802918</td>\n",
              "      <td>english</td>\n",
              "      <td>truly fun...very recommended, worth the money ...</td>\n",
              "      <td>2023-01-29 14:47:55</td>\n",
              "      <td>True</td>\n",
              "      <td>0</td>\n",
              "      <td>0</td>\n",
              "      <td>True</td>\n",
              "      <td>False</td>\n",
              "      <td>False</td>\n",
              "      <td>17</td>\n",
              "      <td>4</td>\n",
              "      <td>9467</td>\n",
              "      <td>39</td>\n",
              "      <td>8394</td>\n",
              "      <td>2023-02-26 17:51:52</td>\n",
              "      <td>[truly, funvery, recommended, worth, money, time]</td>\n",
              "    </tr>\n",
              "    <tr>\n",
              "      <th>9791</th>\n",
              "      <td>131802717</td>\n",
              "      <td>english</td>\n",
              "      <td>mimic is the friend we made along the way</td>\n",
              "      <td>2023-01-29 14:44:41</td>\n",
              "      <td>True</td>\n",
              "      <td>0</td>\n",
              "      <td>0</td>\n",
              "      <td>True</td>\n",
              "      <td>False</td>\n",
              "      <td>False</td>\n",
              "      <td>34</td>\n",
              "      <td>3</td>\n",
              "      <td>8098</td>\n",
              "      <td>6</td>\n",
              "      <td>5655</td>\n",
              "      <td>2023-02-23 10:17:41</td>\n",
              "      <td>[mimic, friend, way]</td>\n",
              "    </tr>\n",
              "    <tr>\n",
              "      <th>9792</th>\n",
              "      <td>131802309</td>\n",
              "      <td>english</td>\n",
              "      <td>The lands of Elden Ring are vast and wild, fil...</td>\n",
              "      <td>2023-01-29 14:38:38</td>\n",
              "      <td>True</td>\n",
              "      <td>1</td>\n",
              "      <td>0</td>\n",
              "      <td>True</td>\n",
              "      <td>False</td>\n",
              "      <td>False</td>\n",
              "      <td>70</td>\n",
              "      <td>8</td>\n",
              "      <td>9472</td>\n",
              "      <td>201</td>\n",
              "      <td>9191</td>\n",
              "      <td>2023-03-05 13:39:17</td>\n",
              "      <td>[lands, vast, wild, filled, dangers, lurking, ...</td>\n",
              "    </tr>\n",
              "    <tr>\n",
              "      <th>9793</th>\n",
              "      <td>131801971</td>\n",
              "      <td>english</td>\n",
              "      <td>Cant Segz Godrick</td>\n",
              "      <td>2023-01-29 14:32:52</td>\n",
              "      <td>False</td>\n",
              "      <td>0</td>\n",
              "      <td>0</td>\n",
              "      <td>False</td>\n",
              "      <td>False</td>\n",
              "      <td>False</td>\n",
              "      <td>194</td>\n",
              "      <td>71</td>\n",
              "      <td>6935</td>\n",
              "      <td>0</td>\n",
              "      <td>6582</td>\n",
              "      <td>2023-02-03 19:17:59</td>\n",
              "      <td>[segz, godrick]</td>\n",
              "    </tr>\n",
              "  </tbody>\n",
              "</table>\n",
              "<p>9794 rows × 17 columns</p>\n",
              "</div>\n",
              "      <button class=\"colab-df-convert\" onclick=\"convertToInteractive('df-677f7579-760a-4b30-beda-bde7b683c1e6')\"\n",
              "              title=\"Convert this dataframe to an interactive table.\"\n",
              "              style=\"display:none;\">\n",
              "        \n",
              "  <svg xmlns=\"http://www.w3.org/2000/svg\" height=\"24px\"viewBox=\"0 0 24 24\"\n",
              "       width=\"24px\">\n",
              "    <path d=\"M0 0h24v24H0V0z\" fill=\"none\"/>\n",
              "    <path d=\"M18.56 5.44l.94 2.06.94-2.06 2.06-.94-2.06-.94-.94-2.06-.94 2.06-2.06.94zm-11 1L8.5 8.5l.94-2.06 2.06-.94-2.06-.94L8.5 2.5l-.94 2.06-2.06.94zm10 10l.94 2.06.94-2.06 2.06-.94-2.06-.94-.94-2.06-.94 2.06-2.06.94z\"/><path d=\"M17.41 7.96l-1.37-1.37c-.4-.4-.92-.59-1.43-.59-.52 0-1.04.2-1.43.59L10.3 9.45l-7.72 7.72c-.78.78-.78 2.05 0 2.83L4 21.41c.39.39.9.59 1.41.59.51 0 1.02-.2 1.41-.59l7.78-7.78 2.81-2.81c.8-.78.8-2.07 0-2.86zM5.41 20L4 18.59l7.72-7.72 1.47 1.35L5.41 20z\"/>\n",
              "  </svg>\n",
              "      </button>\n",
              "      \n",
              "  <style>\n",
              "    .colab-df-container {\n",
              "      display:flex;\n",
              "      flex-wrap:wrap;\n",
              "      gap: 12px;\n",
              "    }\n",
              "\n",
              "    .colab-df-convert {\n",
              "      background-color: #E8F0FE;\n",
              "      border: none;\n",
              "      border-radius: 50%;\n",
              "      cursor: pointer;\n",
              "      display: none;\n",
              "      fill: #1967D2;\n",
              "      height: 32px;\n",
              "      padding: 0 0 0 0;\n",
              "      width: 32px;\n",
              "    }\n",
              "\n",
              "    .colab-df-convert:hover {\n",
              "      background-color: #E2EBFA;\n",
              "      box-shadow: 0px 1px 2px rgba(60, 64, 67, 0.3), 0px 1px 3px 1px rgba(60, 64, 67, 0.15);\n",
              "      fill: #174EA6;\n",
              "    }\n",
              "\n",
              "    [theme=dark] .colab-df-convert {\n",
              "      background-color: #3B4455;\n",
              "      fill: #D2E3FC;\n",
              "    }\n",
              "\n",
              "    [theme=dark] .colab-df-convert:hover {\n",
              "      background-color: #434B5C;\n",
              "      box-shadow: 0px 1px 3px 1px rgba(0, 0, 0, 0.15);\n",
              "      filter: drop-shadow(0px 1px 2px rgba(0, 0, 0, 0.3));\n",
              "      fill: #FFFFFF;\n",
              "    }\n",
              "  </style>\n",
              "\n",
              "      <script>\n",
              "        const buttonEl =\n",
              "          document.querySelector('#df-677f7579-760a-4b30-beda-bde7b683c1e6 button.colab-df-convert');\n",
              "        buttonEl.style.display =\n",
              "          google.colab.kernel.accessAllowed ? 'block' : 'none';\n",
              "\n",
              "        async function convertToInteractive(key) {\n",
              "          const element = document.querySelector('#df-677f7579-760a-4b30-beda-bde7b683c1e6');\n",
              "          const dataTable =\n",
              "            await google.colab.kernel.invokeFunction('convertToInteractive',\n",
              "                                                     [key], {});\n",
              "          if (!dataTable) return;\n",
              "\n",
              "          const docLinkHtml = 'Like what you see? Visit the ' +\n",
              "            '<a target=\"_blank\" href=https://colab.research.google.com/notebooks/data_table.ipynb>data table notebook</a>'\n",
              "            + ' to learn more about interactive tables.';\n",
              "          element.innerHTML = '';\n",
              "          dataTable['output_type'] = 'display_data';\n",
              "          await google.colab.output.renderOutput(dataTable, element);\n",
              "          const docLink = document.createElement('div');\n",
              "          docLink.innerHTML = docLinkHtml;\n",
              "          element.appendChild(docLink);\n",
              "        }\n",
              "      </script>\n",
              "    </div>\n",
              "  </div>\n",
              "  "
            ]
          },
          "metadata": {},
          "execution_count": 33
        }
      ]
    },
    {
      "cell_type": "code",
      "source": [
        "model = Word2Vec(sentences=data['review_processed'].tolist(), vector_size=300,sg=1,min_count=5,window=10,workers=50,seed=10,epochs=100)\n",
        "#vector_size (int, optional) – Dimensionality of the word vectors.\n",
        "#min_count (int, optional) – Ignores all words with total frequency lower than this.\n",
        "#window (int, optional) – Maximum distance between the current and predicted word within a sentence.\n",
        "#workers (int, optional) – Use these many worker threads to train the model (=faster training with multicore machines).\n",
        "#sg ({0, 1}, optional) – Training algorithm: 1 for skip-gram; otherwise CBOW.\n",
        "#epochs (int, optional) – Number of iterations (epochs) over the corpus. (Formerly: iter)\n",
        "\n",
        "#The meaning of most of the parameters are beyond the scope of this class. If interested, please check the official documentations: https://radimrehurek.com/gensim/models/word2vec.html"
      ],
      "metadata": {
        "id": "JCt8dnhbY1BL"
      },
      "execution_count": 107,
      "outputs": []
    },
    {
      "cell_type": "code",
      "source": [
        "model.wv.most_similar('killed', topn=10)"
      ],
      "metadata": {
        "colab": {
          "base_uri": "https://localhost:8080/"
        },
        "id": "HEif50h4bmaz",
        "outputId": "59a29e1b-8869-49a0-d65d-993ec32368d4"
      },
      "execution_count": 120,
      "outputs": [
        {
          "output_type": "execute_result",
          "data": {
            "text/plain": [
              "[('exploit', 0.33646878600120544),\n",
              " ('elevator', 0.29332464933395386),\n",
              " ('rats', 0.2752256393432617),\n",
              " ('dragon', 0.2722066044807434),\n",
              " ('ruins', 0.26664888858795166),\n",
              " ('respawning', 0.2624953091144562),\n",
              " ('rat', 0.2578144371509552),\n",
              " ('respawn', 0.2554304301738739),\n",
              " ('grace', 0.2504226565361023),\n",
              " ('attempts', 0.24889318645000458)]"
            ]
          },
          "metadata": {},
          "execution_count": 120
        }
      ]
    },
    {
      "cell_type": "code",
      "source": [
        "model.wv.most_similar('plot', topn=10)"
      ],
      "metadata": {
        "colab": {
          "base_uri": "https://localhost:8080/"
        },
        "id": "Dx5YT5OXbnwz",
        "outputId": "61dd6326-b30e-4ff0-cc45-f2f2176cb65d"
      },
      "execution_count": 152,
      "outputs": [
        {
          "output_type": "execute_result",
          "data": {
            "text/plain": [
              "[('gather', 0.30340901017189026),\n",
              " ('grasp', 0.3000735640525818),\n",
              " ('entertained', 0.29185399413108826),\n",
              " ('repeating', 0.29004380106925964),\n",
              " ('themes', 0.2753866910934448),\n",
              " ('noice', 0.27247852087020874),\n",
              " ('tone', 0.27215951681137085),\n",
              " ('consoles', 0.2704331576824188),\n",
              " ('typical', 0.2691148519515991),\n",
              " ('stellar', 0.26908132433891296)]"
            ]
          },
          "metadata": {},
          "execution_count": 152
        }
      ]
    },
    {
      "cell_type": "code",
      "source": [
        "model.wv.most_similar('money', topn=10)"
      ],
      "metadata": {
        "colab": {
          "base_uri": "https://localhost:8080/"
        },
        "id": "_2RTogNA9QYV",
        "outputId": "05a141d8-dc71-48b2-aab1-4b27616513f4"
      },
      "execution_count": 123,
      "outputs": [
        {
          "output_type": "execute_result",
          "data": {
            "text/plain": [
              "[('worth', 0.3450014591217041),\n",
              " ('gang', 0.3420043885707855),\n",
              " ('dollars', 0.3371058404445648),\n",
              " ('infinity', 0.3294423818588257),\n",
              " ('spare', 0.3290877342224121),\n",
              " ('ark', 0.32248052954673767),\n",
              " ('fortnite', 0.3201828896999359),\n",
              " ('deaf', 0.30601823329925537),\n",
              " ('burn', 0.2964648902416229),\n",
              " ('evolved', 0.28911903500556946)]"
            ]
          },
          "metadata": {},
          "execution_count": 123
        }
      ]
    },
    {
      "cell_type": "code",
      "source": [
        "model.wv.most_similar('scene', topn=10)"
      ],
      "metadata": {
        "colab": {
          "base_uri": "https://localhost:8080/"
        },
        "id": "zWmh0DIj-y33",
        "outputId": "83286bc2-2445-43b5-9ce4-c1c791ded934"
      },
      "execution_count": 138,
      "outputs": [
        {
          "output_type": "execute_result",
          "data": {
            "text/plain": [
              "[('cutting', 0.4096072018146515),\n",
              " ('scenes', 0.3821605443954468),\n",
              " ('disappoint', 0.36313316226005554),\n",
              " ('noice', 0.35858845710754395),\n",
              " ('marika', 0.35744160413742065),\n",
              " ('occasional', 0.3539219796657562),\n",
              " ('movie', 0.34203866124153137),\n",
              " ('spell', 0.3334980010986328),\n",
              " ('ight', 0.3309401571750641),\n",
              " ('social', 0.3287423253059387)]"
            ]
          },
          "metadata": {},
          "execution_count": 138
        }
      ]
    },
    {
      "cell_type": "code",
      "source": [
        "model.wv.most_similar('achievement', topn=10)"
      ],
      "metadata": {
        "colab": {
          "base_uri": "https://localhost:8080/"
        },
        "id": "s2weDRvwEPw1",
        "outputId": "7aa0a787-11c7-4bfc-a785-fa01c44e4da0"
      },
      "execution_count": 149,
      "outputs": [
        {
          "output_type": "execute_result",
          "data": {
            "text/plain": [
              "[('discovering', 0.32832229137420654),\n",
              " ('ending', 0.30452629923820496),\n",
              " ('alas', 0.29158511757850647),\n",
              " ('relief', 0.28847309947013855),\n",
              " ('platinum', 0.28551721572875977),\n",
              " ('disappoint', 0.27296656370162964),\n",
              " ('frenzied', 0.27096638083457947),\n",
              " ('neat', 0.270506888628006),\n",
              " ('roaming', 0.2684386372566223),\n",
              " ('dogshit', 0.2679654657840729)]"
            ]
          },
          "metadata": {},
          "execution_count": 149
        }
      ]
    },
    {
      "cell_type": "code",
      "source": [
        "model.wv.most_similar('music', topn=10)"
      ],
      "metadata": {
        "colab": {
          "base_uri": "https://localhost:8080/"
        },
        "id": "3CsUxS3DHLjW",
        "outputId": "c76525ac-1170-4197-c440-7a77fa1ff412"
      },
      "execution_count": 160,
      "outputs": [
        {
          "output_type": "execute_result",
          "data": {
            "text/plain": [
              "[('spectacular', 0.345890611410141),\n",
              " ('seamlessly', 0.3309445083141327),\n",
              " ('ost', 0.3130759000778198),\n",
              " ('exception', 0.2837921679019928),\n",
              " ('beatiful', 0.2778931260108948),\n",
              " ('unusual', 0.2770550549030304),\n",
              " ('cutting', 0.26338258385658264),\n",
              " ('replayability', 0.26288795471191406),\n",
              " ('toptier', 0.2606656849384308),\n",
              " ('beats', 0.2584938406944275)]"
            ]
          },
          "metadata": {},
          "execution_count": 160
        }
      ]
    },
    {
      "cell_type": "code",
      "source": [
        "model.wv.most_similar('surprise', topn=10)"
      ],
      "metadata": {
        "colab": {
          "base_uri": "https://localhost:8080/"
        },
        "id": "eiwJOKSWJva_",
        "outputId": "03827532-d85c-4749-ec8b-9352d1069f52"
      },
      "execution_count": 161,
      "outputs": [
        {
          "output_type": "execute_result",
          "data": {
            "text/plain": [
              "[('humans', 0.36773577332496643),\n",
              " ('company', 0.3245186507701874),\n",
              " ('purchased', 0.32205909490585327),\n",
              " ('moon', 0.31840193271636963),\n",
              " ('beautifully', 0.31718453764915466),\n",
              " ('syndrome', 0.30310356616973877),\n",
              " ('addiction', 0.2997865378856659),\n",
              " ('pleasant', 0.2981395423412323),\n",
              " ('veri', 0.2937401831150055),\n",
              " ('reminds', 0.29072442650794983)]"
            ]
          },
          "metadata": {},
          "execution_count": 161
        }
      ]
    },
    {
      "cell_type": "code",
      "source": [
        "model.wv.most_similar('ending', topn=10)"
      ],
      "metadata": {
        "colab": {
          "base_uri": "https://localhost:8080/"
        },
        "id": "Ds7iLaf5KSa6",
        "outputId": "1abd1bfe-4481-4f3c-da3e-d9b054ec38aa"
      },
      "execution_count": 165,
      "outputs": [
        {
          "output_type": "execute_result",
          "data": {
            "text/plain": [
              "[('frenzied', 0.38064053654670715),\n",
              " ('endings', 0.3343939483165741),\n",
              " ('rannis', 0.3159030079841614),\n",
              " ('hug', 0.3082789480686188),\n",
              " ('azur', 0.30606716871261597),\n",
              " ('achievement', 0.30452626943588257),\n",
              " ('age', 0.2967379093170166),\n",
              " ('accomplished', 0.2804076671600342),\n",
              " ('wildly', 0.27869394421577454),\n",
              " ('completed', 0.27568483352661133)]"
            ]
          },
          "metadata": {},
          "execution_count": 165
        }
      ]
    },
    {
      "cell_type": "code",
      "source": [
        "outdata=pd.DataFrame(model.wv.vectors)"
      ],
      "metadata": {
        "id": "6G8G9ilzuatD"
      },
      "execution_count": 117,
      "outputs": []
    },
    {
      "cell_type": "code",
      "source": [
        "outdata.to_csv('word2vec_ratemds.tsv',sep='\\t',index=False,header=False)"
      ],
      "metadata": {
        "id": "lu9A2ab4fb9g"
      },
      "execution_count": 118,
      "outputs": []
    },
    {
      "cell_type": "code",
      "source": [
        "pd.DataFrame(model.wv.index_to_key).to_csv('word2vec_ratemds_words.tsv',sep='\\t',index=False,header=False)"
      ],
      "metadata": {
        "id": "4HE02zyts9eC"
      },
      "execution_count": 119,
      "outputs": []
    }
  ]
}