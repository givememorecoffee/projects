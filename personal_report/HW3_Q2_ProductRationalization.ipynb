{
 "cells": [
  {
   "cell_type": "markdown",
   "id": "70f022ac",
   "metadata": {},
   "source": [
    "## Product Rationalization LP Problem"
   ]
  },
  {
   "cell_type": "code",
   "execution_count": 1,
   "id": "eb15f461",
   "metadata": {},
   "outputs": [],
   "source": [
    "from pulp import LpMaximize, LpMinimize, LpProblem, LpStatus, lpSum, LpVariable\n",
    "import pandas as pd\n",
    "import numpy as np"
   ]
  },
  {
   "cell_type": "markdown",
   "id": "7a60b037",
   "metadata": {},
   "source": [
    "The Molokai Nut Company (MNC) makes four different products from macadamia nuts grown in the Hawaiian Islands:  chocolate-coated whole nuts (Whole), chocolate-coated nut clusters (Cluster), chocolate-coated nut crunch bars (Crunch) and plain roasted nuts (Roasted).\n",
    "\n",
    "To meet marketing demands for the coming week, MNC needs to produce at least 1,000 pounds of the Whole product, between 400 and 500 pounds of the Cluster product, no more than 150 pounds of the Crunch product and no more than 200 pounds of the Roasted product.\n",
    "\n",
    "Each pound of the Whole, Cluster, Crunch and Roasted product contains, respectively, 60%, 40%, 20% and 100% macadamia nuts with the remaining weight made up of chocolate coating.  The company has 1100 pounds of nuts and 800 pounds of chocolate available for use in the next week.  \n",
    "\n",
    "The various products are made using four different machines that hull the nuts, roast the nuts, coat the nuts in chocolate, and package the products.  Table 1 summarizes the time required in minutes for each product on each machine.  Each machine has 60 hours of production time available in the coming week.\n",
    "\n",
    "**Table 1: Machine Minutes Required per Pound**\n",
    "\n",
    "|Machine  |Whole    |Cluster     |Crunch     |Roasted      |\n",
    "|:-------:|:-------:|:----------:|:---------:|:-----------:|\n",
    "|Hulling  |1.00     |1.00        |1.00       |1.00         |\n",
    "|Roasting |2.00     |1.50        |1.00       |4.00         |\n",
    "|Coating  |1.00     |0.70        |0.20       |0            |\n",
    "|Packaging|2.50     |1.60        |1.25       |1.00         |\n",
    "\n",
    "The company's controller recently presented management with a financial summary of MNC's average weekly operations over the past quarter.  The Variable Margin per pound for each of the products is shown below.\n",
    "\n",
    "|Product      |VM/lb       |\n",
    "|:-----------:|:----------:|\n",
    "|Whole        |\\\\$1.93     |\n",
    "|Cluster      |\\\\$1.04     |\n",
    "|Crunch       |\\\\$1.15     |\n",
    "|Roasted      |\\\\$1.33     |\n",
    "\n",
    "A. Build a linear programming model to identify the production levels for MNC's four products that maximize total VM.\n",
    "\n",
    "B. If MNC wanted to decrease the production of any product, which product would you recommend and why?\n",
    "\n",
    "C. Which machine capacities would you recommend the company look into expanding?  If they can only expand one machine capacity, which machine should they target?"
   ]
  },
  {
   "cell_type": "code",
   "execution_count": 2,
   "id": "7179debf",
   "metadata": {},
   "outputs": [
    {
     "data": {
      "text/html": [
       "<div>\n",
       "<style scoped>\n",
       "    .dataframe tbody tr th:only-of-type {\n",
       "        vertical-align: middle;\n",
       "    }\n",
       "\n",
       "    .dataframe tbody tr th {\n",
       "        vertical-align: top;\n",
       "    }\n",
       "\n",
       "    .dataframe thead th {\n",
       "        text-align: right;\n",
       "    }\n",
       "</style>\n",
       "<table border=\"1\" class=\"dataframe\">\n",
       "  <thead>\n",
       "    <tr style=\"text-align: right;\">\n",
       "      <th></th>\n",
       "      <th>vm</th>\n",
       "      <th>hulling</th>\n",
       "      <th>roasting</th>\n",
       "      <th>coating</th>\n",
       "      <th>packaging</th>\n",
       "      <th>nuts</th>\n",
       "      <th>chocolate</th>\n",
       "      <th>max_needed</th>\n",
       "      <th>min_needed</th>\n",
       "    </tr>\n",
       "    <tr>\n",
       "      <th>product</th>\n",
       "      <th></th>\n",
       "      <th></th>\n",
       "      <th></th>\n",
       "      <th></th>\n",
       "      <th></th>\n",
       "      <th></th>\n",
       "      <th></th>\n",
       "      <th></th>\n",
       "      <th></th>\n",
       "    </tr>\n",
       "  </thead>\n",
       "  <tbody>\n",
       "    <tr>\n",
       "      <th>whole</th>\n",
       "      <td>1.93</td>\n",
       "      <td>1</td>\n",
       "      <td>2.0</td>\n",
       "      <td>1.0</td>\n",
       "      <td>2.50</td>\n",
       "      <td>0.6</td>\n",
       "      <td>0.4</td>\n",
       "      <td>100000</td>\n",
       "      <td>1000</td>\n",
       "    </tr>\n",
       "    <tr>\n",
       "      <th>cluster</th>\n",
       "      <td>1.04</td>\n",
       "      <td>1</td>\n",
       "      <td>1.5</td>\n",
       "      <td>0.7</td>\n",
       "      <td>1.60</td>\n",
       "      <td>0.4</td>\n",
       "      <td>0.6</td>\n",
       "      <td>500</td>\n",
       "      <td>400</td>\n",
       "    </tr>\n",
       "    <tr>\n",
       "      <th>crunch</th>\n",
       "      <td>1.15</td>\n",
       "      <td>1</td>\n",
       "      <td>1.0</td>\n",
       "      <td>0.2</td>\n",
       "      <td>1.25</td>\n",
       "      <td>0.2</td>\n",
       "      <td>0.8</td>\n",
       "      <td>150</td>\n",
       "      <td>0</td>\n",
       "    </tr>\n",
       "    <tr>\n",
       "      <th>roasted</th>\n",
       "      <td>1.33</td>\n",
       "      <td>1</td>\n",
       "      <td>4.0</td>\n",
       "      <td>0.0</td>\n",
       "      <td>1.00</td>\n",
       "      <td>1.0</td>\n",
       "      <td>0.0</td>\n",
       "      <td>200</td>\n",
       "      <td>0</td>\n",
       "    </tr>\n",
       "  </tbody>\n",
       "</table>\n",
       "</div>"
      ],
      "text/plain": [
       "           vm  hulling  roasting  coating  packaging  nuts  chocolate  \\\n",
       "product                                                                 \n",
       "whole    1.93        1       2.0      1.0       2.50   0.6        0.4   \n",
       "cluster  1.04        1       1.5      0.7       1.60   0.4        0.6   \n",
       "crunch   1.15        1       1.0      0.2       1.25   0.2        0.8   \n",
       "roasted  1.33        1       4.0      0.0       1.00   1.0        0.0   \n",
       "\n",
       "         max_needed  min_needed  \n",
       "product                          \n",
       "whole        100000        1000  \n",
       "cluster         500         400  \n",
       "crunch          150           0  \n",
       "roasted         200           0  "
      ]
     },
     "execution_count": 2,
     "metadata": {},
     "output_type": "execute_result"
    }
   ],
   "source": [
    "data = pd.DataFrame({'product': ['whole', 'cluster', 'crunch', 'roasted'],\n",
    "                     'vm': [1.93, 1.04, 1.15, 1.33],\n",
    "                     'hulling': [1, 1, 1, 1],\n",
    "                     'roasting': [2, 1.5, 1, 4],\n",
    "                     'coating': [1, .7, .2, 0],\n",
    "                     'packaging': [2.5, 1.6, 1.25, 1],\n",
    "                     'nuts': [.6, .4, .2, 1],\n",
    "                     'chocolate': [.4, .6, .8, 0],\n",
    "                    'max_needed': [100000, 500, 150, 200],\n",
    "                    'min_needed': [1000, 400, 0, 0]})\n",
    "data = data.set_index('product')\n",
    "data"
   ]
  },
  {
   "cell_type": "code",
   "execution_count": 3,
   "id": "aea5ea59",
   "metadata": {},
   "outputs": [
    {
     "data": {
      "text/plain": [
       "{'nuts': 1100, 'chocolate': 800}"
      ]
     },
     "execution_count": 3,
     "metadata": {},
     "output_type": "execute_result"
    }
   ],
   "source": [
    "machines = data.columns[1:5]\n",
    "ingredients = data.columns[5:7]\n",
    "\n",
    "capacities = dict(zip(machines, [3600, 3600, 3600, 3600]))\n",
    "materials = dict(zip(ingredients, [1100, 800]))\n",
    "\n",
    "materials"
   ]
  },
  {
   "cell_type": "code",
   "execution_count": 4,
   "id": "a15f77f1",
   "metadata": {},
   "outputs": [
    {
     "data": {
      "text/plain": [
       "{'whole': qty_whole,\n",
       " 'cluster': qty_cluster,\n",
       " 'crunch': qty_crunch,\n",
       " 'roasted': qty_roasted}"
      ]
     },
     "execution_count": 4,
     "metadata": {},
     "output_type": "execute_result"
    }
   ],
   "source": [
    "model = LpProblem(\"Product_Rationalization\", LpMaximize)\n",
    "\n",
    "prod = LpVariable.dicts(\"qty\", data.index)\n",
    "prod"
   ]
  },
  {
   "cell_type": "code",
   "execution_count": 5,
   "id": "4b1f7731",
   "metadata": {},
   "outputs": [
    {
     "data": {
      "text/plain": [
       "Product_Rationalization:\n",
       "MAXIMIZE\n",
       "1.04*qty_cluster + 1.15*qty_crunch + 1.33*qty_roasted + 1.93*qty_whole + 0.0\n",
       "VARIABLES\n",
       "qty_cluster free Continuous\n",
       "qty_crunch free Continuous\n",
       "qty_roasted free Continuous\n",
       "qty_whole free Continuous"
      ]
     },
     "execution_count": 5,
     "metadata": {},
     "output_type": "execute_result"
    }
   ],
   "source": [
    "model += lpSum(data.loc[p, 'vm'] * prod[p] for p in data.index )\n",
    "model"
   ]
  },
  {
   "cell_type": "code",
   "execution_count": 6,
   "id": "67cc7e88",
   "metadata": {},
   "outputs": [
    {
     "data": {
      "text/plain": [
       "Product_Rationalization:\n",
       "MAXIMIZE\n",
       "1.04*qty_cluster + 1.15*qty_crunch + 1.33*qty_roasted + 1.93*qty_whole + 0.0\n",
       "SUBJECT TO\n",
       "capacity_hulling: qty_cluster + qty_crunch + qty_roasted + qty_whole <= 3600\n",
       "\n",
       "capacity_roasting: 1.5 qty_cluster + qty_crunch + 4 qty_roasted + 2 qty_whole\n",
       " <= 3600\n",
       "\n",
       "capacity_coating: 0.7 qty_cluster + 0.2 qty_crunch + qty_whole <= 3600\n",
       "\n",
       "capacity_packaging: 1.6 qty_cluster + 1.25 qty_crunch + qty_roasted\n",
       " + 2.5 qty_whole <= 3600\n",
       "\n",
       "materials_nuts: 0.4 qty_cluster + 0.2 qty_crunch + qty_roasted + 0.6 qty_whole\n",
       " <= 1100\n",
       "\n",
       "materials_chocolate: 0.6 qty_cluster + 0.8 qty_crunch + 0.4 qty_whole <= 800\n",
       "\n",
       "lower_whole: qty_whole >= 1000\n",
       "\n",
       "upper_whole: qty_whole <= 100000\n",
       "\n",
       "lower_cluster: qty_cluster >= 400\n",
       "\n",
       "upper_cluster: qty_cluster <= 500\n",
       "\n",
       "lower_crunch: qty_crunch >= 0\n",
       "\n",
       "upper_crunch: qty_crunch <= 150\n",
       "\n",
       "lower_roasted: qty_roasted >= 0\n",
       "\n",
       "upper_roasted: qty_roasted <= 200\n",
       "\n",
       "VARIABLES\n",
       "qty_cluster free Continuous\n",
       "qty_crunch free Continuous\n",
       "qty_roasted free Continuous\n",
       "qty_whole free Continuous"
      ]
     },
     "execution_count": 6,
     "metadata": {},
     "output_type": "execute_result"
    }
   ],
   "source": [
    "for m in machines :\n",
    "        model +=  (lpSum(data.loc[p, m] * prod[p] for p in data.index) <= capacities[m], 'capacity_' + str(m)) \n",
    "\n",
    "        \n",
    "for i in ingredients :\n",
    "        model +=  (lpSum(data.loc[p, i] * prod[p] for p in data.index) <= materials[i], 'materials_' + str(i))         \n",
    "\n",
    "        \n",
    "for p in data.index:\n",
    "    model += (prod[p] >= data.loc[p, 'min_needed'], 'lower_' + str(p))\n",
    "    model += (prod[p] <= data.loc[p, 'max_needed'], 'upper_' + str(p))\n",
    "        \n",
    "model            "
   ]
  },
  {
   "cell_type": "code",
   "execution_count": 7,
   "id": "a0489707",
   "metadata": {},
   "outputs": [
    {
     "data": {
      "text/plain": [
       "1"
      ]
     },
     "execution_count": 7,
     "metadata": {},
     "output_type": "execute_result"
    }
   ],
   "source": [
    "model.solve()"
   ]
  },
  {
   "cell_type": "code",
   "execution_count": 8,
   "id": "e931d306",
   "metadata": {},
   "outputs": [
    {
     "data": {
      "text/plain": [
       "2839.075"
      ]
     },
     "execution_count": 8,
     "metadata": {},
     "output_type": "execute_result"
    }
   ],
   "source": [
    "model.objective.value()"
   ]
  },
  {
   "cell_type": "markdown",
   "id": "4aa605df",
   "metadata": {},
   "source": [
    "#### A. Build a linear programming model to identify the production levels for MNC's four products that maximize total VM."
   ]
  },
  {
   "cell_type": "code",
   "execution_count": 9,
   "id": "4e585694",
   "metadata": {},
   "outputs": [
    {
     "name": "stdout",
     "output_type": "stream",
     "text": [
      "qty_cluster: 400.0\n",
      "qty_crunch: 150.0\n",
      "qty_roasted: 197.5\n",
      "qty_whole: 1030.0\n"
     ]
    }
   ],
   "source": [
    "for v in model.variables(): print(f\"{v.name}: {v.varValue}\")"
   ]
  },
  {
   "cell_type": "markdown",
   "id": "364044f5",
   "metadata": {},
   "source": [
    "#### B. If MNC wanted to decrease the production of any product, which product would you recommend and why?\n",
    "\n",
    "Cluster lower bound has negative shadow price => increase profit by making fewer pounds of Cluster\n",
    "\n",
    "#### C. Which machine capacities would you recommend the company look into expanding? If they can only expand one machine capacity, which machine should they target?\n",
    "\n",
    "Packaging and roasting.  First priority packaging.  Each additional unit of packaging time adds \\\\$0.6325 to VM."
   ]
  },
  {
   "cell_type": "code",
   "execution_count": 20,
   "id": "68601272",
   "metadata": {},
   "outputs": [
    {
     "name": "stdout",
     "output_type": "stream",
     "text": [
      "capacity_hulling: -0.0\n",
      "capacity_roasting: 0.174375\n",
      "capacity_coating: -0.0\n",
      "capacity_packaging: 0.6325\n",
      "materials_nuts: -0.0\n",
      "materials_chocolate: -0.0\n",
      "lower_whole: -0.0\n",
      "upper_whole: -0.0\n",
      "lower_cluster: -0.2335625\n",
      "upper_cluster: -0.0\n",
      "lower_crunch: -0.0\n",
      "upper_crunch: 0.185\n",
      "lower_roasted: -0.0\n",
      "upper_roasted: -0.0\n"
     ]
    }
   ],
   "source": [
    "for c in model.constraints.values(): print(f\"{c.name}: {c.pi}\")"
   ]
  },
  {
   "cell_type": "code",
   "execution_count": null,
   "id": "8fff7988",
   "metadata": {},
   "outputs": [],
   "source": []
  }
 ],
 "metadata": {
  "kernelspec": {
   "display_name": "Python 3 (ipykernel)",
   "language": "python",
   "name": "python3"
  },
  "language_info": {
   "codemirror_mode": {
    "name": "ipython",
    "version": 3
   },
   "file_extension": ".py",
   "mimetype": "text/x-python",
   "name": "python",
   "nbconvert_exporter": "python",
   "pygments_lexer": "ipython3",
   "version": "3.9.12"
  }
 },
 "nbformat": 4,
 "nbformat_minor": 5
}
