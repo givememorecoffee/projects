{
 "cells": [
  {
   "cell_type": "markdown",
   "id": "48cbb610",
   "metadata": {},
   "source": [
    "# Resource Allocation LP Problem: Blue Ridge Hot Tubs\n",
    "\n",
    "A popular Python package for creating and solving linear programming problems is PuLP.\n",
    "\n",
    "Here are links to the documentation, which has some good information in it.\n",
    "\n",
    "https://coin-or.github.io/pulp/main/index.html\n",
    "\n",
    "https://pypi.org/project/PuLP/\n",
    "\n",
    "To install Pulp through a Jupyter Notebook, you can run the shell command with the '!' character."
   ]
  },
  {
   "cell_type": "code",
   "execution_count": 1,
   "id": "2c371f17",
   "metadata": {},
   "outputs": [],
   "source": [
    "## !pip install pulp"
   ]
  },
  {
   "cell_type": "code",
   "execution_count": 1,
   "id": "eb15f461",
   "metadata": {},
   "outputs": [],
   "source": [
    "from pulp import LpMaximize, LpProblem, LpStatus, lpSum, LpVariable"
   ]
  },
  {
   "cell_type": "markdown",
   "id": "f936f24b",
   "metadata": {},
   "source": [
    "Blue Ridge Hot Tubs produces two types of hot tubs: Aqua-Spas & Hydro-Luxes.  Howie Jones, owner-operator of the company, needs to decide how many of each type of hot tub to produce during the next production cycle.\n",
    "\n",
    "Howie buys prefabricated fiberglass hot tub shells from a local supplier and adds the pump and tubing to the shells to create his hot tubs.  Howie installs the same type of pump into both hot tub models.  He will have only 200 pumps available for the next production rub.  In manufacturing the hot tubs, the main difference between the Aqua-Spa and Hydro-Lux models is the amount of tubing and labor required.  Each Aqua-Spa requires 9 hours of labor and 12 feet of tubing.  Each Hydro-Lux requires 6 hours of labor and 16 feet of tubing.\n",
    "\n",
    "Howie expects to have 1,566 production labor hours and 2,880 feet of tubing available.  Howie earns a profit of \\\\$350 on each Aqua-Spa he sells and \\\\$300 on each Hydro-Lux he sells.  \t\t\t\t\t\t\n",
    "\t\t\t\t\t\t\n",
    "How many of each model hot tub should Blue Ridge produce in order to maximize profits during the next production cycle?\t\n",
    "\t\t\t\t\t\t\n",
    "\t\t\t\t\t\t"
   ]
  },
  {
   "cell_type": "markdown",
   "id": "53e66713",
   "metadata": {},
   "source": [
    "Let X1 = number of Aqua-Spa, X2 = number of Hydro-Lux models\n",
    "\n",
    "Maximize 350(X1) + 300(X2)\n",
    "\n",
    "subject to:  \n",
    "1(X1) + 1(X2) <= 200  \n",
    "9(X1) + 6(X2) <= 1566  \n",
    "12(X1) + 16(X2) <= 2880  \n",
    "  "
   ]
  },
  {
   "cell_type": "code",
   "execution_count": 2,
   "id": "d718e9fb",
   "metadata": {},
   "outputs": [],
   "source": [
    "# Create the model (LpProblem class objects)\n",
    "model = LpProblem(\"HotTubs:Resource_Allocation\", LpMaximize)"
   ]
  },
  {
   "cell_type": "code",
   "execution_count": 3,
   "id": "78c9783c",
   "metadata": {},
   "outputs": [],
   "source": [
    "# Create the decision variables\n",
    "x1 = LpVariable('Aqua-Spa', lowBound = 0)\n",
    "x2 = LpVariable('Hydro-Lux', lowBound = 0)\n",
    "\n",
    "# Add the objective function to the model\n",
    "model += 350 * x1 + 300 * x2\n",
    "\n",
    "# Add the constraints to the model\n",
    "model += (1 * x1 + 1 * x2 <= 200, \"pumps\")\n",
    "model += (9 * x1 + 6 * x2 <= 1566, \"labor\")\n",
    "model += (12 * x1 + 16 * x2 <= 2800, \"tubing\")"
   ]
  },
  {
   "cell_type": "code",
   "execution_count": 4,
   "id": "75017f69",
   "metadata": {},
   "outputs": [
    {
     "data": {
      "text/plain": [
       "HotTubs:Resource_Allocation:\n",
       "MAXIMIZE\n",
       "350*Aqua_Spa + 300*Hydro_Lux + 0\n",
       "SUBJECT TO\n",
       "pumps: Aqua_Spa + Hydro_Lux <= 200\n",
       "\n",
       "labor: 9 Aqua_Spa + 6 Hydro_Lux <= 1566\n",
       "\n",
       "tubing: 12 Aqua_Spa + 16 Hydro_Lux <= 2800\n",
       "\n",
       "VARIABLES\n",
       "Aqua_Spa Continuous\n",
       "Hydro_Lux Continuous"
      ]
     },
     "execution_count": 4,
     "metadata": {},
     "output_type": "execute_result"
    }
   ],
   "source": [
    "model"
   ]
  },
  {
   "cell_type": "code",
   "execution_count": 5,
   "id": "241f55a8",
   "metadata": {},
   "outputs": [
    {
     "data": {
      "text/plain": [
       "'Optimal'"
      ]
     },
     "execution_count": 5,
     "metadata": {},
     "output_type": "execute_result"
    }
   ],
   "source": [
    "model.solve()\n",
    "\n",
    "LpStatus[model.status]"
   ]
  },
  {
   "cell_type": "code",
   "execution_count": 6,
   "id": "241eaba3",
   "metadata": {},
   "outputs": [
    {
     "data": {
      "text/plain": [
       "66100.0"
      ]
     },
     "execution_count": 6,
     "metadata": {},
     "output_type": "execute_result"
    }
   ],
   "source": [
    "model.objective.value()"
   ]
  },
  {
   "cell_type": "code",
   "execution_count": 7,
   "id": "ae804df0",
   "metadata": {},
   "outputs": [
    {
     "name": "stdout",
     "output_type": "stream",
     "text": [
      "Aqua_Spa: 122.0\n",
      "Hydro_Lux: 78.0\n"
     ]
    }
   ],
   "source": [
    "## Retrieve optimal values for decision variables\n",
    "for v in model.variables(): print(f\"{v.name}: {v.varValue}\")"
   ]
  },
  {
   "cell_type": "code",
   "execution_count": 8,
   "id": "c11229fb",
   "metadata": {},
   "outputs": [
    {
     "name": "stdout",
     "output_type": "stream",
     "text": [
      "pumps: 0.0\n",
      "labor: 0.0\n",
      "tubing: -88.0\n"
     ]
    }
   ],
   "source": [
    "## Retrieve contraint values at optimal solution.  Note that value is relative to rhs of constraint.\n",
    "for name, constraint in model.constraints.items(): print(f\"{name}: {constraint.value()}\")"
   ]
  },
  {
   "cell_type": "code",
   "execution_count": 9,
   "id": "e1474adb",
   "metadata": {},
   "outputs": [
    {
     "data": {
      "text/plain": [
       "2712.0"
      ]
     },
     "execution_count": 9,
     "metadata": {},
     "output_type": "execute_result"
    }
   ],
   "source": [
    "model.constraints['tubing'].value() - model.constraints['tubing'].constant"
   ]
  },
  {
   "cell_type": "code",
   "execution_count": 10,
   "id": "f53faf98",
   "metadata": {},
   "outputs": [
    {
     "name": "stdout",
     "output_type": "stream",
     "text": [
      "{'sense': -1, 'pi': 200.0, 'constant': -200, 'name': 'pumps', 'coefficients': [{'name': 'Aqua_Spa', 'value': 1}, {'name': 'Hydro_Lux', 'value': 1}]}\n",
      "{'sense': -1, 'pi': 16.666667, 'constant': -1566, 'name': 'labor', 'coefficients': [{'name': 'Aqua_Spa', 'value': 9}, {'name': 'Hydro_Lux', 'value': 6}]}\n",
      "{'sense': -1, 'pi': -0.0, 'constant': -2800, 'name': 'tubing', 'coefficients': [{'name': 'Aqua_Spa', 'value': 12}, {'name': 'Hydro_Lux', 'value': 16}]}\n"
     ]
    }
   ],
   "source": [
    "for c in model.constraints.values(): print(c.toDict())"
   ]
  },
  {
   "cell_type": "code",
   "execution_count": 11,
   "id": "ab608370",
   "metadata": {},
   "outputs": [
    {
     "name": "stdout",
     "output_type": "stream",
     "text": [
      "pumps: 200.0\n",
      "labor: 16.666667\n",
      "tubing: -0.0\n"
     ]
    }
   ],
   "source": [
    "for c in model.constraints.values(): print(f\"{c.name}: {c.pi}\")"
   ]
  },
  {
   "cell_type": "code",
   "execution_count": 12,
   "id": "e5930633",
   "metadata": {},
   "outputs": [
    {
     "data": {
      "text/plain": [
       "HotTubs_TyphoonLagoon:\n",
       "MAXIMIZE\n",
       "350*Aqua_Spa + 300*Hydro_Lux + 320*Typhoon_Lagoon + 0\n",
       "SUBJECT TO\n",
       "pumps: Aqua_Spa + Hydro_Lux + Typhoon_Lagoon <= 200\n",
       "\n",
       "labor: 9 Aqua_Spa + 6 Hydro_Lux + 8 Typhoon_Lagoon <= 1566\n",
       "\n",
       "tubing: 12 Aqua_Spa + 16 Hydro_Lux + 13 Typhoon_Lagoon <= 2800\n",
       "\n",
       "low_bound_Aqua_Spa: Aqua_Spa >= 0\n",
       "\n",
       "low_bound_Hydro_Lux: Hydro_Lux >= 0\n",
       "\n",
       "low_bound_Typhoon_Lagoon: Typhoon_Lagoon >= 0\n",
       "\n",
       "VARIABLES\n",
       "Aqua_Spa free Continuous\n",
       "Hydro_Lux free Continuous\n",
       "Typhoon_Lagoon free Continuous"
      ]
     },
     "execution_count": 12,
     "metadata": {},
     "output_type": "execute_result"
    }
   ],
   "source": [
    "## Add Typhon Lagoon model at $320 unit profit\n",
    "\n",
    "model2 = LpProblem(\"HotTubs_TyphoonLagoon\", LpMaximize)\n",
    "\n",
    "# Create the decision variables\n",
    "y1 = LpVariable('Aqua-Spa')\n",
    "y2 = LpVariable('Hydro-Lux')\n",
    "y3 = LpVariable('Typhoon-Lagoon')\n",
    "\n",
    "# Add the objective function to the model\n",
    "model2 += 350 * y1 + 300 * y2 + 320 * y3\n",
    "\n",
    "# Add the constraints to the model\n",
    "model2 += (1 * y1 + 1 * y2 + 1 * y3 <= 200, \"pumps\")\n",
    "model2 += (9 * y1 + 6 * y2 + 8 * y3 <= 1566, \"labor\")\n",
    "model2 += (12 * y1 + 16 * y2 + 13 * y3 <= 2800, \"tubing\")\n",
    "\n",
    "for var in [y1, y2, y3] :\n",
    "    model2 += (var >= 0, 'low_bound_' + str(var) )\n",
    "\n",
    "model2\n"
   ]
  },
  {
   "cell_type": "code",
   "execution_count": 13,
   "id": "d9528d55",
   "metadata": {},
   "outputs": [
    {
     "data": {
      "text/plain": [
       "66100.0"
      ]
     },
     "execution_count": 13,
     "metadata": {},
     "output_type": "execute_result"
    }
   ],
   "source": [
    "model2.solve()\n",
    "\n",
    "model2.objective.value()"
   ]
  },
  {
   "cell_type": "code",
   "execution_count": 14,
   "id": "b7737719",
   "metadata": {},
   "outputs": [
    {
     "name": "stdout",
     "output_type": "stream",
     "text": [
      "Aqua_Spa: 122.0\n",
      "Hydro_Lux: 78.0\n",
      "Typhoon_Lagoon: 0.0\n"
     ]
    }
   ],
   "source": [
    "## Retrieve optimal values for decision variables\n",
    "for v in model2.variables(): print(f\"{v.name}: {v.varValue}\") #equal to 0 (or in other words, with the equal quality) => binding (here typhoon)"
   ]
  },
  {
   "cell_type": "code",
   "execution_count": 15,
   "id": "c74a931c",
   "metadata": {},
   "outputs": [
    {
     "name": "stdout",
     "output_type": "stream",
     "text": [
      "pumps: 200.0\n",
      "labor: 16.666667\n",
      "tubing: -0.0\n",
      "low_bound_Aqua_Spa: -0.0\n",
      "low_bound_Hydro_Lux: -0.0\n",
      "low_bound_Typhoon_Lagoon: -13.333333\n"
     ]
    }
   ],
   "source": [
    "for c in model2.constraints.values(): print(f\"{c.name}: {c.pi}\") #shadow price"
   ]
  },
  {
   "cell_type": "code",
   "execution_count": null,
   "id": "994df47c",
   "metadata": {},
   "outputs": [],
   "source": []
  }
 ],
 "metadata": {
  "kernelspec": {
   "display_name": "Python 3 (ipykernel)",
   "language": "python",
   "name": "python3"
  },
  "language_info": {
   "codemirror_mode": {
    "name": "ipython",
    "version": 3
   },
   "file_extension": ".py",
   "mimetype": "text/x-python",
   "name": "python",
   "nbconvert_exporter": "python",
   "pygments_lexer": "ipython3",
   "version": "3.9.13"
  }
 },
 "nbformat": 4,
 "nbformat_minor": 5
}
